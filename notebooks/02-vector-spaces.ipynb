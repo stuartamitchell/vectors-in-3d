{
 "cells": [
  {
   "cell_type": "markdown",
   "metadata": {},
   "source": [
    "# 02 - Vector spaces\n",
    "Recall from Unit 2 that a matrix is invertible if and only if its determinant is non-zero. The numpy package provides a function for finding the determinant of an array.\n",
    "\n",
    "```python\n",
    "numpy.linalg.det(array)\n",
    "```\n",
    "\n",
    "In the cell below we compute the determinant of the $2 \\times 2$ matrix $\\begin{pmatrix} 3 & 1 \\\\ 4 & 2 \\end{pmatrix}$."
   ]
  },
  {
   "cell_type": "code",
   "execution_count": 1,
   "metadata": {},
   "outputs": [
    {
     "data": {
      "text/plain": [
       "2.0"
      ]
     },
     "execution_count": 1,
     "metadata": {},
     "output_type": "execute_result"
    }
   ],
   "source": [
    "import numpy as np\n",
    "\n",
    "matrix = np.array([[3, 1], [4, 2]])\n",
    "np.linalg.det(matrix)"
   ]
  },
  {
   "cell_type": "markdown",
   "metadata": {},
   "source": [
    "We can use this to decide whether or not a set of $n$ vectors in an $n$-dimensional vector space is linearly dependent in the following way: construct an $n \\times n$ matrix whose $i$th row is the $i$th vector in the collection. Consider the collection of vectors\n",
    "$$ \\left\\{ \\mathbf{v}_1, \\mathbf{v}_2, \\ldots, \\mathbf{v}_n \\right\\} $$ \n",
    "where the $i$th vector is\n",
    "$$ \\mathbf{v}_i = (v_{i,1}, v_{i,2}, \\ldots, v_{i,n}). $$\n",
    "The matrix is then\n",
    "$$ \\begin{pmatrix} v_{1,1} & v_{1,2} & \\cdots & v_{1,n} \\\\ \\vdots & \\vdots & \\ddots & \\vdots \\\\ v_{n,1} & v_{n,2} & \\cdots & v_{n,n} \\end{pmatrix} $$\n",
    "\n",
    "## Exercises\n",
    "1. Decide whether the following collections of vectors are linearly dependendent\n",
    "  1. $\\mathbf{u} \\begin{pmatrix} 1 \\\\ 2 \\end{pmatrix}, \\mathbf{v} = \\begin{pmatrix} -6 \\\\ -12 \\end{pmatrix}$\n",
    "  2. $\\mathbf{u} = \\begin{pmatrix} 1 \\\\ 1 \\\\ 0 \\end{pmatrix}, \\mathbf{v} = \\begin{pmatrix} 1 \\\\ 0 \\\\ 1 \\end{pmatrix}, \\mathbf{w} = \\begin{pmatrix} 0 \\\\ 0 \\\\ 1 \\end{pmatrix}$\n",
    "2. Research an algorithm for determining the linear dependence of a set of vectors for which the number of vectors is different to the dimension of the vector space. Implement it in Python."
   ]
  },
  {
   "cell_type": "code",
   "execution_count": null,
   "metadata": {},
   "outputs": [],
   "source": []
  }
 ],
 "metadata": {
  "file_extension": ".py",
  "kernelspec": {
   "display_name": "Python 3",
   "language": "python",
   "name": "python3"
  },
  "language_info": {
   "codemirror_mode": {
    "name": "ipython",
    "version": 3
   },
   "file_extension": ".py",
   "mimetype": "text/x-python",
   "name": "python",
   "nbconvert_exporter": "python",
   "pygments_lexer": "ipython3",
   "version": "3.7.6"
  },
  "mimetype": "text/x-python",
  "name": "python",
  "npconvert_exporter": "python",
  "pygments_lexer": "ipython3",
  "version": 3
 },
 "nbformat": 4,
 "nbformat_minor": 2
}
