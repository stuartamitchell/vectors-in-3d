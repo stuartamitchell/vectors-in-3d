{
 "cells": [
  {
   "cell_type": "markdown",
   "metadata": {},
   "source": [
    "# 03 - The dot product\n",
    "Numpy also provides us with a way to do the dot product of two vectors. There are actually two ways, because numpy provides a function called dot which does matrix multiplication of vectors, and also a function called vdot which does vector dot product as expected.\n",
    "\n",
    "In what follows, I'm going to input all vectors as rows, like in the coordinate spaces introduced in Lesson 02 - Vector Spaces.\n",
    "\n",
    "As usual, we import numpy as np. I then define three vectors and compute the dot product of each possible pairing."
   ]
  },
  {
   "cell_type": "code",
   "execution_count": 1,
   "metadata": {},
   "outputs": [
    {
     "name": "stdout",
     "output_type": "stream",
     "text": [
      "-1\n",
      "0\n",
      "1\n"
     ]
    }
   ],
   "source": [
    "import numpy as np\n",
    "\n",
    "u = np.array([1,0,1])\n",
    "v = np.array([0,1,-1])\n",
    "w = np.array([1,0,-1])\n",
    "\n",
    "print(np.vdot(u,v))\n",
    "print(np.vdot(u,w))\n",
    "print(np.vdot(v,w))"
   ]
  },
  {
   "cell_type": "code",
   "execution_count": null,
   "metadata": {},
   "outputs": [],
   "source": []
  }
 ],
 "metadata": {
  "file_extension": ".py",
  "kernelspec": {
   "display_name": "Python 3",
   "language": "python",
   "name": "python3"
  },
  "language_info": {
   "codemirror_mode": {
    "name": "ipython",
    "version": 3
   },
   "file_extension": ".py",
   "mimetype": "text/x-python",
   "name": "python",
   "nbconvert_exporter": "python",
   "pygments_lexer": "ipython3",
   "version": "3.7.6"
  },
  "mimetype": "text/x-python",
  "name": "python",
  "npconvert_exporter": "python",
  "pygments_lexer": "ipython3",
  "version": 3
 },
 "nbformat": 4,
 "nbformat_minor": 4
}
