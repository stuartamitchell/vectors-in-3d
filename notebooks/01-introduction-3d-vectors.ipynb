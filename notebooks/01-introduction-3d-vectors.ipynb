{
 "cells": [
  {
   "cell_type": "markdown",
   "metadata": {},
   "source": [
    "# Introduction to vectors in three dimensions\n",
    "\n",
    "In this notebook we explore using the Python library numpy for doing calculations with vectors. We begin by importing the library:"
   ]
  },
  {
   "cell_type": "code",
   "execution_count": 1,
   "metadata": {},
   "outputs": [],
   "source": [
    "import numpy as np"
   ]
  },
  {
   "cell_type": "markdown",
   "metadata": {},
   "source": [
    "## Vectors as numpy arrays\n",
    "Vectors in numpy can be represnted by arrays. It is most convenient to input vectors as a row and use numpy's reshape function to put it in the shape of a column vector. For example, we input the vector\n",
    "\n",
    "$$ \\mathbf{v} = \\begin{pmatrix} 1 \\\\ 0 \\\\ -1 \\end{pmatrix} $$\n",
    "\n",
    "in the following way:"
   ]
  },
  {
   "cell_type": "code",
   "execution_count": 2,
   "metadata": {},
   "outputs": [
    {
     "name": "stdout",
     "output_type": "stream",
     "text": [
      "[[ 1]\n",
      " [ 0]\n",
      " [-1]]\n"
     ]
    }
   ],
   "source": [
    "v = np.array([1, 0, -1]).reshape(3,1)\n",
    "print(v)"
   ]
  },
  {
   "cell_type": "markdown",
   "metadata": {},
   "source": [
    "The arguments we sent to reshape are exactly like the dimensions of a matrix. In the code above, we told reshape to take the array we just created and make it have 3 rows and 1 column.\n",
    "\n",
    "## Vector addition and scalar multiplication\n",
    "We will now look at how we can add and scalar multiply vectors using numpy. Let's create another vector\n",
    "$$ \\mathbf{u} = \\begin{pmatrix} 2 \\\\ 1 \\\\ 1 \\end{pmatrix} $$\n",
    "and find $u + v$, $v - u$, $3v$ and $-2u$."
   ]
  },
  {
   "cell_type": "code",
   "execution_count": 3,
   "metadata": {},
   "outputs": [
    {
     "name": "stdout",
     "output_type": "stream",
     "text": [
      "u = \n",
      "[[2]\n",
      " [1]\n",
      " [1]]\n",
      "u + v = \n",
      "[[3]\n",
      " [1]\n",
      " [0]]\n",
      "v - u = \n",
      "[[-1]\n",
      " [-1]\n",
      " [-2]]\n",
      "3 * v = \n",
      "[[ 3]\n",
      " [ 0]\n",
      " [-3]]\n",
      "-2 * u = \n",
      "[[-4]\n",
      " [-2]\n",
      " [-2]]\n"
     ]
    }
   ],
   "source": [
    "u = np.array([2,1,1]).reshape(3,1)\n",
    "print(\"u = \")\n",
    "print(u)\n",
    "\n",
    "print(\"u + v = \")\n",
    "print(u + v)\n",
    "\n",
    "print(\"v - u = \")\n",
    "print(v - u)\n",
    "\n",
    "print(\"3 * v = \")\n",
    "print(3*v)\n",
    "\n",
    "print(\"-2 * u = \")\n",
    "print(-2*u)"
   ]
  },
  {
   "cell_type": "markdown",
   "metadata": {},
   "source": [
    "## Magnitude of a vector\n",
    "Numpy has a bunch of built in functions for doing linear algebra, and they have the prefix linalg. For example, we compute the magnitude of a vector with the norm function:\n",
    "\n",
    "```Python\n",
    "np.linalg.norm(vector)\n",
    "```\n",
    "\n",
    "We compute the magnitude of the vector $\\mathbf{u}$ created above, noting that it should be\n",
    "$$ |\\mathbf{u}| = \\sqrt{2^2 + 1^2 + 1^2} = \\sqrt{6} \\approx 2.449489742783178 $$"
   ]
  },
  {
   "cell_type": "code",
   "execution_count": 4,
   "metadata": {},
   "outputs": [
    {
     "data": {
      "text/plain": [
       "2.449489742783178"
      ]
     },
     "execution_count": 4,
     "metadata": {},
     "output_type": "execute_result"
    }
   ],
   "source": [
    "np.linalg.norm(u)"
   ]
  },
  {
   "cell_type": "markdown",
   "metadata": {},
   "source": [
    "## Exercises\n",
    "1. Create three vectors $\\mathbf{u} = \\begin{pmatrix} 1 \\\\ 1 \\\\ 0 \\end{pmatrix}$, $\\mathbf{v} =  \\begin{pmatrix} 0 \\\\ 1 \\\\ 1 \\end{pmatrix}$ and $\\mathbf{w} = \\begin{pmatrix} -1 \\\\ 0 \\\\ -1 \\end{pmatrix}$.\n",
    "1. \n",
    "  1. Compute $\\mathbf{u} + \\mathbf{v} + \\mathbf{w}$.\n",
    "  1. Find $2\\mathbf{u} - 3 \\mathbf{v} + 2\\mathbf{w}$.\n",
    "1. Find the magnitude of $\\mathbf{w} - \\mathbf{v}$"
   ]
  }
 ],
 "metadata": {
  "kernelspec": {
   "display_name": "Python 3",
   "language": "python",
   "name": "python3"
  },
  "language_info": {
   "codemirror_mode": {
    "name": "ipython",
    "version": 3
   },
   "file_extension": ".py",
   "mimetype": "text/x-python",
   "name": "python",
   "nbconvert_exporter": "python",
   "pygments_lexer": "ipython3",
   "version": "3.7.6"
  }
 },
 "nbformat": 4,
 "nbformat_minor": 4
}
